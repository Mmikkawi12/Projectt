{
 "cells": [
  {
   "cell_type": "markdown",
   "id": "6902589b",
   "metadata": {},
   "source": [
    "# MST Algorithms Comparison – econ-psmigr1\n"
   ]
  },
  {
   "cell_type": "code",
   "execution_count": 1,
   "id": "e8b7d8d3",
   "metadata": {},
   "outputs": [
    {
     "name": "stdout",
     "output_type": "stream",
     "text": [
      "Requirement already satisfied: matplotlib in /opt/anaconda3/lib/python3.12/site-packages (3.9.2)\n",
      "Requirement already satisfied: networkx in /opt/anaconda3/lib/python3.12/site-packages (3.3)\n",
      "Requirement already satisfied: ffmpeg in /opt/anaconda3/lib/python3.12/site-packages (1.4)\n",
      "Requirement already satisfied: pillow in /opt/anaconda3/lib/python3.12/site-packages (10.4.0)\n",
      "Requirement already satisfied: contourpy>=1.0.1 in /opt/anaconda3/lib/python3.12/site-packages (from matplotlib) (1.2.0)\n",
      "Requirement already satisfied: cycler>=0.10 in /opt/anaconda3/lib/python3.12/site-packages (from matplotlib) (0.11.0)\n",
      "Requirement already satisfied: fonttools>=4.22.0 in /opt/anaconda3/lib/python3.12/site-packages (from matplotlib) (4.51.0)\n",
      "Requirement already satisfied: kiwisolver>=1.3.1 in /opt/anaconda3/lib/python3.12/site-packages (from matplotlib) (1.4.4)\n",
      "Requirement already satisfied: numpy>=1.23 in /opt/anaconda3/lib/python3.12/site-packages (from matplotlib) (1.26.4)\n",
      "Requirement already satisfied: packaging>=20.0 in /opt/anaconda3/lib/python3.12/site-packages (from matplotlib) (24.1)\n",
      "Requirement already satisfied: pyparsing>=2.3.1 in /opt/anaconda3/lib/python3.12/site-packages (from matplotlib) (3.1.2)\n",
      "Requirement already satisfied: python-dateutil>=2.7 in /opt/anaconda3/lib/python3.12/site-packages (from matplotlib) (2.9.0.post0)\n",
      "Requirement already satisfied: six>=1.5 in /opt/anaconda3/lib/python3.12/site-packages (from python-dateutil>=2.7->matplotlib) (1.16.0)\n",
      "Note: you may need to restart the kernel to use updated packages.\n"
     ]
    }
   ],
   "source": [
    "pip install matplotlib networkx ffmpeg pillow"
   ]
  },
  {
   "cell_type": "markdown",
   "id": "3b9f9fc7",
   "metadata": {},
   "source": [
    "## 📥 Step 1: Load Your Dataset"
   ]
  },
  {
   "cell_type": "code",
   "execution_count": 4,
   "id": "7b0d0a90",
   "metadata": {},
   "outputs": [
    {
     "name": "stdout",
     "output_type": "stream",
     "text": [
      "Graph has 3140 nodes and 410781 edges.\n"
     ]
    }
   ],
   "source": [
    "from scipy.io import mmread\n",
    "import networkx as nx\n",
    "\n",
    "mtx_path = \"econ-psmigr1.mtx\" \n",
    "matrix = mmread(mtx_path)\n",
    "coo = matrix.tocoo()\n",
    "\n",
    "G = nx.Graph()\n",
    "for i, j, w in zip(coo.row, coo.col, coo.data):\n",
    "    if i != j:\n",
    "        G.add_edge(int(i), int(j), weight=float(w))\n",
    "\n",
    "print(f\"Graph has {G.number_of_nodes()} nodes and {G.number_of_edges()} edges.\")\n",
    "\n",
    "if not nx.is_connected(G):\n",
    "    G = G.subgraph(max(nx.connected_components(G), key=len)).copy()\n",
    "    print(f\"Using largest connected component: {G.number_of_nodes()} nodes, {G.number_of_edges()} edges.\")\n"
   ]
  },
  {
   "cell_type": "markdown",
   "id": "84d13dc4",
   "metadata": {},
   "source": [
    "##  Kruskal’s Algorithm"
   ]
  },
  {
   "cell_type": "code",
   "execution_count": 5,
   "id": "e6d0e22c",
   "metadata": {},
   "outputs": [
    {
     "name": "stdout",
     "output_type": "stream",
     "text": [
      "Kruskal MST cost: 11319.00\n",
      "Execution time: 0.7776 seconds\n"
     ]
    }
   ],
   "source": [
    "import time\n",
    "start = time.time()\n",
    "MST_kruskal = nx.minimum_spanning_tree(G, algorithm='kruskal')\n",
    "end = time.time()\n",
    "kruskal_cost = MST_kruskal.size(weight='weight')\n",
    "kruskal_time = end - start\n",
    "print(f\"Kruskal MST cost: {kruskal_cost:.2f}\")\n",
    "print(f\"Execution time: {kruskal_time:.4f} seconds\")"
   ]
  },
  {
   "cell_type": "markdown",
   "id": "937edc42-d267-433b-a03d-4598cdee62f3",
   "metadata": {},
   "source": [
    "# Visualize a Sample of the MST"
   ]
  },
  {
   "cell_type": "code",
   "execution_count": 7,
   "id": "febd6f25",
   "metadata": {},
   "outputs": [
    {
     "data": {
      "image/png": "[encoded data removed]",
      "text/plain": [
       "<Figure size 1000x800 with 1 Axes>"
      ]
     },
     "metadata": {},
     "output_type": "display_data"
    }
   ],
   "source": [
    "import matplotlib.pyplot as plt\n",
    "import networkx as nx\n",
    "\n",
    "sub_nodes = list(MST_kruskal.nodes)[:100]\n",
    "subgraph = MST_kruskal.subgraph(sub_nodes)\n",
    "\n",
    "plt.figure(figsize=(10, 8))\n",
    "pos = nx.spring_layout(subgraph, seed=42)\n",
    "nx.draw(subgraph, pos, node_size=20, edge_color='gray', with_labels=False)\n",
    "plt.title('Sample MST Visualization (100 Nodes)')\n",
    "plt.show()"
   ]
  },
  {
   "cell_type": "code",
   "execution_count": 8,
   "id": "cecec030",
   "metadata": {},
   "outputs": [
    {
     "name": "stdout",
     "output_type": "stream",
     "text": [
      "✅ Animation saved successfully as 'mst_animation.mp4'\n"
     ]
    }
   ],
   "source": [
    "import matplotlib.pyplot as plt\n",
    "import matplotlib.animation as animation\n",
    "import networkx as nx\n",
    "\n",
    "# Select subgraph to animate (e.g., 100 nodes for clarity)\n",
    "sub_nodes = list(MST_kruskal.nodes)[:100]\n",
    "subgraph = MST_kruskal.subgraph(sub_nodes)\n",
    "edges = list(subgraph.edges(data=True))\n",
    "\n",
    "# Prepare positions (fixed for animation)\n",
    "pos = nx.spring_layout(subgraph, seed=42)\n",
    "\n",
    "# Set up the figure\n",
    "fig, ax = plt.subplots(figsize=(10, 8))\n",
    "ax.set_title(\"MST Construction Animation (100 Nodes)\")\n",
    "\n",
    "# Initialize graph for animation\n",
    "G_anim = nx.Graph()\n",
    "total_cost = [0]  # cumulative cost\n",
    "\n",
    "# Create line object for displaying total MST cost\n",
    "text_obj = ax.text(0.05, 0.95, \"\", transform=ax.transAxes, fontsize=12, verticalalignment='top')\n",
    "\n",
    "def update(num):\n",
    "    ax.clear()\n",
    "    ax.set_title(f\"Step {num+1} / {len(edges)}\", fontsize=14)\n",
    "    G_anim.add_edge(edges[num][0], edges[num][1])\n",
    "    weight = edges[num][2].get('weight', 1)\n",
    "    total_cost[0] += weight\n",
    "\n",
    "    nx.draw(G_anim, pos, ax=ax, node_size=30, edge_color='black', with_labels=False)\n",
    "    text_obj = ax.text(0.05, 0.95, f\"Total MST Cost: {total_cost[0]:.2f}\", transform=ax.transAxes,\n",
    "                       fontsize=12, verticalalignment='top', bbox=dict(facecolor='white', alpha=0.6))\n",
    "\n",
    "    return ax\n",
    "\n",
    "# Create animation\n",
    "ani = animation.FuncAnimation(fig, update, frames=len(edges), interval=300, repeat=False)\n",
    "\n",
    "# Save as MP4 or GIF\n",
    "ani.save(\"mst_animation_psmigr1_kruskal.gif\", writer=\"pillow\", dpi=200)\n",
    "# Or: ani.save(\"mst_animation.gif\", writer=\"pillow\")\n",
    "\n",
    "plt.close()\n",
    "print(\"✅ Animation saved successfully as 'mst_animation.mp4'\")"
   ]
  },
  {
   "cell_type": "markdown",
   "id": "5ca07a27",
   "metadata": {},
   "source": [
    "## Prim’s Algorithm"
   ]
  },
  {
   "cell_type": "code",
   "execution_count": 9,
   "id": "56cd08b1",
   "metadata": {},
   "outputs": [
    {
     "name": "stdout",
     "output_type": "stream",
     "text": [
      "Prim MST cost: 11319.00\n",
      "Execution time: 0.8114 seconds\n"
     ]
    }
   ],
   "source": [
    "start = time.time()\n",
    "MST_prim = nx.minimum_spanning_tree(G, algorithm='prim')\n",
    "end = time.time()\n",
    "prim_cost = MST_prim.size(weight='weight')\n",
    "prim_time = end - start\n",
    "print(f\"Prim MST cost: {prim_cost:.2f}\")\n",
    "print(f\"Execution time: {prim_time:.4f} seconds\")"
   ]
  },
  {
   "cell_type": "code",
   "execution_count": 11,
   "id": "c2f66eb0",
   "metadata": {},
   "outputs": [
    {
     "name": "stdout",
     "output_type": "stream",
     "text": [
      "✅ Animation saved successfully as 'mst_animation2.mp4'\n"
     ]
    }
   ],
   "source": [
    "import matplotlib.pyplot as plt\n",
    "import matplotlib.animation as animation\n",
    "import networkx as nx\n",
    "\n",
    "# Select subgraph to animate (e.g., 100 nodes for clarity)\n",
    "sub_nodes = list(MST_prim.nodes)[:100]\n",
    "subgraph = MST_prim.subgraph(sub_nodes)\n",
    "edges = list(subgraph.edges(data=True))\n",
    "\n",
    "# Prepare positions (fixed for animation)\n",
    "pos = nx.spring_layout(subgraph, seed=42)\n",
    "\n",
    "# Set up the figure\n",
    "fig, ax = plt.subplots(figsize=(10, 8))\n",
    "ax.set_title(\"MST Construction Animation (100 Nodes)\")\n",
    "\n",
    "# Initialize graph for animation\n",
    "G_anim = nx.Graph()\n",
    "total_cost = [0]  # cumulative cost\n",
    "\n",
    "# Create line object for displaying total MST cost\n",
    "text_obj = ax.text(0.05, 0.95, \"\", transform=ax.transAxes, fontsize=12, verticalalignment='top')\n",
    "\n",
    "def update(num):\n",
    "    ax.clear()\n",
    "    ax.set_title(f\"Step {num+1} / {len(edges)}\", fontsize=14)\n",
    "    G_anim.add_edge(edges[num][0], edges[num][1])\n",
    "    weight = edges[num][2].get('weight', 1)\n",
    "    total_cost[0] += weight\n",
    "\n",
    "    nx.draw(G_anim, pos, ax=ax, node_size=30, edge_color='black', with_labels=False)\n",
    "    text_obj = ax.text(0.05, 0.95, f\"Total MST Cost: {total_cost[0]:.2f}\", transform=ax.transAxes,\n",
    "                       fontsize=12, verticalalignment='top', bbox=dict(facecolor='white', alpha=0.6))\n",
    "\n",
    "    return ax\n",
    "\n",
    "# Create animation\n",
    "ani = animation.FuncAnimation(fig, update, frames=len(edges), interval=300, repeat=False)\n",
    "\n",
    "# Save as MP4 or GIF\n",
    "ani.save(\"mst_animation_psmigr1_prim.gif\", writer=\"pillow\", dpi=200)\n",
    "# Or: ani.save(\"mst_animation.gif\", writer=\"pillow\")\n",
    "\n",
    "plt.close()\n",
    "print(\"✅ Animation saved successfully as 'mst_animation2.mp4'\")"
   ]
  },
  {
   "cell_type": "markdown",
   "id": "0b7006a3",
   "metadata": {},
   "source": [
    "## 🧩 Borůvka’s Algorithm"
   ]
  },
  {
   "cell_type": "code",
   "execution_count": 12,
   "id": "732532a7",
   "metadata": {},
   "outputs": [
    {
     "name": "stdout",
     "output_type": "stream",
     "text": [
      "Borůvka MST cost: 11319.00\n",
      "Execution time: 0.7734 seconds\n"
     ]
    }
   ],
   "source": [
    "from networkx.algorithms.tree import branchings\n",
    "\n",
    "def boruvka_mst(graph):\n",
    "    from networkx.utils import UnionFind\n",
    "    forest = list(graph.edges(data=True))\n",
    "    uf = UnionFind()\n",
    "    mst_edges = []\n",
    "    start = time.time()\n",
    "    nodes = list(graph.nodes())\n",
    "    while len(set(uf[x] for x in nodes)) > 1:\n",
    "        cheapest = {}\n",
    "        for u, v, d in forest:\n",
    "            ru, rv = uf[u], uf[v]\n",
    "            if ru != rv:\n",
    "                if ru not in cheapest or cheapest[ru][2]['weight'] > d['weight']:\n",
    "                    cheapest[ru] = (u, v, d)\n",
    "                if rv not in cheapest or cheapest[rv][2]['weight'] > d['weight']:\n",
    "                    cheapest[rv] = (u, v, d)\n",
    "        for edge in cheapest.values():\n",
    "            u, v, d = edge\n",
    "            if uf[u] != uf[v]:\n",
    "                uf.union(u, v)\n",
    "                mst_edges.append((u, v, d))\n",
    "    MST = nx.Graph()\n",
    "    MST.add_edges_from(mst_edges)\n",
    "    end = time.time()\n",
    "    return MST, MST.size(weight='weight'), end - start\n",
    "\n",
    "MST_boruvka, boruvka_cost, boruvka_time = boruvka_mst(G)\n",
    "print(f\"Borůvka MST cost: {boruvka_cost:.2f}\")\n",
    "print(f\"Execution time: {boruvka_time:.4f} seconds\")"
   ]
  },
  {
   "cell_type": "code",
   "execution_count": 13,
   "id": "3b07ffa5",
   "metadata": {},
   "outputs": [
    {
     "name": "stdout",
     "output_type": "stream",
     "text": [
      "✅ Animation saved successfully as 'mst_animation3.mp4'\n"
     ]
    }
   ],
   "source": [
    "import matplotlib.pyplot as plt\n",
    "import matplotlib.animation as animation\n",
    "import networkx as nx\n",
    "\n",
    "# Select subgraph to animate (e.g., 100 nodes for clarity)\n",
    "sub_nodes = list(MST_boruvka.nodes)[:100]\n",
    "subgraph = MST_boruvka.subgraph(sub_nodes)\n",
    "edges = list(subgraph.edges(data=True))\n",
    "\n",
    "# Prepare positions (fixed for animation)\n",
    "pos = nx.spring_layout(subgraph, seed=42)\n",
    "\n",
    "# Set up the figure\n",
    "fig, ax = plt.subplots(figsize=(10, 8))\n",
    "ax.set_title(\"MST Construction Animation (100 Nodes)\")\n",
    "\n",
    "# Initialize graph for animation\n",
    "G_anim = nx.Graph()\n",
    "total_cost = [0]  # cumulative cost\n",
    "\n",
    "# Create line object for displaying total MST cost\n",
    "text_obj = ax.text(0.05, 0.95, \"\", transform=ax.transAxes, fontsize=12, verticalalignment='top')\n",
    "\n",
    "def update(num):\n",
    "    ax.clear()\n",
    "    ax.set_title(f\"Step {num+1} / {len(edges)}\", fontsize=14)\n",
    "    G_anim.add_edge(edges[num][0], edges[num][1])\n",
    "    weight = edges[num][2].get('weight', 1)\n",
    "    total_cost[0] += weight\n",
    "\n",
    "    nx.draw(G_anim, pos, ax=ax, node_size=30, edge_color='black', with_labels=False)\n",
    "    text_obj = ax.text(0.05, 0.95, f\"Total MST Cost: {total_cost[0]:.2f}\", transform=ax.transAxes,\n",
    "                       fontsize=12, verticalalignment='top', bbox=dict(facecolor='white', alpha=0.6))\n",
    "\n",
    "    return ax\n",
    "\n",
    "# Create animation\n",
    "ani = animation.FuncAnimation(fig, update, frames=len(edges), interval=300, repeat=False)\n",
    "\n",
    "# Save as MP4 or GIF\n",
    "ani.save(\"mst_animation_psmigr1_Borůvka.gif\", writer=\"pillow\", dpi=200)\n",
    "# Or: ani.save(\"mst_animation.gif\", writer=\"pillow\")\n",
    "\n",
    "plt.close()\n",
    "print(\"✅ Animation saved successfully as 'mst_animation3.mp4'\")"
   ]
  },
  {
   "cell_type": "markdown",
   "id": "4a3fbdc9",
   "metadata": {},
   "source": [
    "## 🔁 Reverse-delete Algorithm (sample only)"
   ]
  },
  {
   "cell_type": "code",
   "execution_count": 14,
   "id": "18c77105",
   "metadata": {},
   "outputs": [
    {
     "name": "stdout",
     "output_type": "stream",
     "text": [
      "Reverse-delete MST cost: 1231.00\n",
      "Execution time: 2.2532 seconds\n"
     ]
    }
   ],
   "source": [
    "def reverse_delete_mst(graph):\n",
    "    sorted_edges = sorted(graph.edges(data=True), key=lambda x: x[2]['weight'], reverse=True)\n",
    "    MST = graph.copy()\n",
    "    start = time.time()\n",
    "    for u, v, data in sorted_edges:\n",
    "        weight = data['weight']\n",
    "        MST.remove_edge(u, v)\n",
    "        if not nx.is_connected(MST):\n",
    "            MST.add_edge(u, v, weight=weight)\n",
    "    end = time.time()\n",
    "    return MST, MST.size(weight='weight'), end - start\n",
    "\n",
    "G_sample = G.subgraph(list(G.nodes)[:300]).copy()\n",
    "MST_rd, rd_cost, rd_time = reverse_delete_mst(G_sample)\n",
    "print(f\"Reverse-delete MST cost: {rd_cost:.2f}\")\n",
    "print(f\"Execution time: {rd_time:.4f} seconds\")"
   ]
  },
  {
   "cell_type": "code",
   "execution_count": 15,
   "id": "12633b4a",
   "metadata": {},
   "outputs": [
    {
     "name": "stdout",
     "output_type": "stream",
     "text": [
      "✅ Animation saved successfully as 'mst_animation4.mp4'\n"
     ]
    }
   ],
   "source": [
    "import matplotlib.pyplot as plt\n",
    "import matplotlib.animation as animation\n",
    "import networkx as nx\n",
    "\n",
    "# Select subgraph to animate (e.g., 100 nodes for clarity)\n",
    "sub_nodes = list(MST_rd.nodes)[:100]\n",
    "subgraph = MST_rd.subgraph(sub_nodes)\n",
    "edges = list(subgraph.edges(data=True))\n",
    "\n",
    "# Prepare positions (fixed for animation)\n",
    "pos = nx.spring_layout(subgraph, seed=42)\n",
    "\n",
    "# Set up the figure\n",
    "fig, ax = plt.subplots(figsize=(10, 8))\n",
    "ax.set_title(\"MST Construction Animation (100 Nodes)\")\n",
    "\n",
    "# Initialize graph for animation\n",
    "G_anim = nx.Graph()\n",
    "total_cost = [0]  # cumulative cost\n",
    "\n",
    "# Create line object for displaying total MST cost\n",
    "text_obj = ax.text(0.05, 0.95, \"\", transform=ax.transAxes, fontsize=12, verticalalignment='top')\n",
    "\n",
    "def update(num):\n",
    "    ax.clear()\n",
    "    ax.set_title(f\"Step {num+1} / {len(edges)}\", fontsize=14)\n",
    "    G_anim.add_edge(edges[num][0], edges[num][1])\n",
    "    weight = edges[num][2].get('weight', 1)\n",
    "    total_cost[0] += weight\n",
    "\n",
    "    nx.draw(G_anim, pos, ax=ax, node_size=30, edge_color='black', with_labels=False)\n",
    "    text_obj = ax.text(0.05, 0.95, f\"Total MST Cost: {total_cost[0]:.2f}\", transform=ax.transAxes,\n",
    "                       fontsize=12, verticalalignment='top', bbox=dict(facecolor='white', alpha=0.6))\n",
    "\n",
    "    return ax\n",
    "\n",
    "# Create animation\n",
    "ani = animation.FuncAnimation(fig, update, frames=len(edges), interval=300, repeat=False)\n",
    "\n",
    "# Save as MP4 or GIF\n",
    "ani.save(\"mst_animation_psmigr1_Reverse-delete.gif\", writer=\"pillow\", dpi=200)\n",
    "# Or: ani.save(\"mst_animation.gif\", writer=\"pillow\")\n",
    "\n",
    "plt.close()\n",
    "print(\"✅ Animation saved successfully as 'mst_animation4.mp4'\")"
   ]
  },
  {
   "cell_type": "markdown",
   "id": "e764ffb1",
   "metadata": {},
   "source": [
    "## 🎲 Karger’s Min-Cut (Optional)"
   ]
  },
  {
   "cell_type": "code",
   "execution_count": 16,
   "id": "579ec377",
   "metadata": {},
   "outputs": [
    {
     "name": "stdout",
     "output_type": "stream",
     "text": [
      "Karger min cut (≤500 nodes): 1\n",
      "Execution time: 33.31 seconds\n"
     ]
    }
   ],
   "source": [
    "import time\n",
    "import random\n",
    "import networkx as nx\n",
    "\n",
    "def karger_min_cut(graph, iterations=10):\n",
    "    min_cut = float('inf')\n",
    "    \n",
    "    for _ in range(iterations):\n",
    "        G_temp = graph.copy()  # fast shallow copy\n",
    "        while G_temp.number_of_nodes() > 2:\n",
    "            edges = list(G_temp.edges)\n",
    "            if not edges:  # safety check\n",
    "                break\n",
    "            u, v = random.choice(edges)\n",
    "            nx.contracted_nodes(G_temp, u, v, self_loops=False, copy=False)\n",
    "        cut_edges = G_temp.number_of_edges()\n",
    "        min_cut = min(min_cut, cut_edges)\n",
    "\n",
    "    return min_cut\n",
    "\n",
    "# Safe subgraph slicing (in case G has <500 nodes)\n",
    "sub_nodes = list(G.nodes)[:min(500, G.number_of_nodes())]\n",
    "G_karger = G.subgraph(sub_nodes).copy()\n",
    "\n",
    "# ⏱ Timing\n",
    "start = time.time()\n",
    "min_cut_value = karger_min_cut(G_karger, iterations=20)\n",
    "end = time.time()\n",
    "\n",
    "# ✅ Output\n",
    "print(f\"Karger min cut (≤500 nodes): {min_cut_value}\")\n",
    "print(f\"Execution time: {end - start:.2f} seconds\")"
   ]
  },
  {
   "cell_type": "markdown",
   "id": "4bd3aacb",
   "metadata": {},
   "source": [
    "## 📊 Final Comparison Charts"
   ]
  },
  {
   "cell_type": "code",
   "execution_count": 17,
   "id": "b69cee8f",
   "metadata": {},
   "outputs": [
    {
     "data": {
      "image/png": "[encoded data removed]",
      "text/plain": [
       "<Figure size 800x400 with 1 Axes>"
      ]
     },
     "metadata": {},
     "output_type": "display_data"
    },
    {
     "data": {
      "image/png": "[encoded data removed]",
      "text/plain": [
       "<Figure size 800x400 with 1 Axes>"
      ]
     },
     "metadata": {},
     "output_type": "display_data"
    }
   ],
   "source": [
    "import pandas as pd\n",
    "import matplotlib.pyplot as plt\n",
    "\n",
    "data = {\n",
    "    \"Algorithm\": [\"Kruskal\", \"Prim\", \"Borůvka\", \"Reverse-delete\"],\n",
    "    \"Execution Time (s)\": [kruskal_time, prim_time, boruvka_time, rd_time],\n",
    "    \"MST Cost\": [kruskal_cost, prim_cost, boruvka_cost, rd_cost]\n",
    "}\n",
    "\n",
    "df = pd.DataFrame(data)\n",
    "\n",
    "# Plot execution time\n",
    "plt.figure(figsize=(8, 4))\n",
    "plt.bar(df[\"Algorithm\"], df[\"Execution Time (s)\"], color=\"skyblue\")\n",
    "plt.title(\"Execution Time Comparison\")\n",
    "plt.ylabel(\"Seconds\")\n",
    "plt.grid(axis='y')\n",
    "plt.tight_layout()\n",
    "plt.show()\n",
    "\n",
    "# Plot MST Cost\n",
    "plt.figure(figsize=(8, 4))\n",
    "plt.bar(df[\"Algorithm\"], df[\"MST Cost\"], color=\"lightgreen\")\n",
    "plt.title(\"MST Cost Comparison\")\n",
    "plt.ylabel(\"Total Weight\")\n",
    "plt.grid(axis='y')\n",
    "plt.tight_layout()\n",
    "plt.show()"
   ]
  }
 ],
 "metadata": {
  "kernelspec": {
   "display_name": "Python [conda env:base] *",
   "language": "python",
   "name": "conda-base-py"
  },
  "language_info": {
   "codemirror_mode": {
    "name": "ipython",
    "version": 3
   },
   "file_extension": ".py",
   "mimetype": "text/x-python",
   "name": "python",
   "nbconvert_exporter": "python",
   "pygments_lexer": "ipython3",
   "version": "3.12.7"
  }
 },
 "nbformat": 4,
 "nbformat_minor": 5
}
